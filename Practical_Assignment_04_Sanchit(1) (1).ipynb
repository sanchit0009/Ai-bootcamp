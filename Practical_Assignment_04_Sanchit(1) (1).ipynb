{
 "cells": [
  {
   "cell_type": "markdown",
   "id": "44b7e7de-ab22-4373-9254-34e7b7728d0e",
   "metadata": {},
   "source": [
    "#### Write code to find number of rows with missing data in the dataset. \n"
   ]
  },
  {
   "cell_type": "code",
   "execution_count": 4,
   "id": "c6540ff7-5ea1-4c79-b8a7-e285d9d88f92",
   "metadata": {},
   "outputs": [],
   "source": [
    "import pandas as pd"
   ]
  },
  {
   "cell_type": "code",
   "execution_count": 5,
   "id": "2c802896-9434-4f8a-9c3d-fe386a2e13cb",
   "metadata": {},
   "outputs": [
    {
     "name": "stdout",
     "output_type": "stream",
     "text": [
      "<class 'pandas.core.frame.DataFrame'>\n",
      "RangeIndex: 100 entries, 0 to 99\n",
      "Data columns (total 15 columns):\n",
      " #   Column      Non-Null Count  Dtype \n",
      "---  ------      --------------  ----- \n",
      " 0   StudentID   100 non-null    int64 \n",
      " 1   G1          100 non-null    int64 \n",
      " 2   G2          100 non-null    int64 \n",
      " 3   G3          100 non-null    int64 \n",
      " 4   Mjob        100 non-null    object\n",
      " 5   Fjob        100 non-null    object\n",
      " 6   age         100 non-null    int64 \n",
      " 7   address     100 non-null    object\n",
      " 8   studytime   100 non-null    int64 \n",
      " 9   failures    100 non-null    int64 \n",
      " 10  schoolsup   100 non-null    object\n",
      " 11  famsup      100 non-null    object\n",
      " 12  paid        100 non-null    object\n",
      " 13  activities  100 non-null    object\n",
      " 14  nursery     100 non-null    object\n",
      "dtypes: int64(7), object(8)\n",
      "memory usage: 11.8+ KB\n"
     ]
    }
   ],
   "source": [
    "# Load the dataset\n",
    "file_path = \"student_performance - student_performance.csv\"\n",
    "df = pd.read_csv(file_path)\n",
    "\n",
    "# Display the first few rows\n",
    "df.head()\n",
    "df.info()"
   ]
  },
  {
   "cell_type": "code",
   "execution_count": 6,
   "id": "856111a7-ab95-4bbd-b00a-8bdb2c942f47",
   "metadata": {},
   "outputs": [
    {
     "name": "stdout",
     "output_type": "stream",
     "text": [
      "Number of rows with missing data: 0\n"
     ]
    }
   ],
   "source": [
    "\n",
    "rows_with_missing_data = df.isnull().sum(axis=1) > 0\n",
    "num_rows_with_missing_data = rows_with_missing_data.sum()\n",
    "\n",
    "# To Display the missing data\n",
    "print(f\"Number of rows with missing data: {num_rows_with_missing_data}\")\n"
   ]
  },
  {
   "cell_type": "code",
   "execution_count": null,
   "id": "48999447-fa12-49fc-9145-a063decc59cb",
   "metadata": {},
   "outputs": [],
   "source": []
  },
  {
   "cell_type": "code",
   "execution_count": null,
   "id": "95e2796f-df17-4f46-a9d1-d61a31ce7a10",
   "metadata": {},
   "outputs": [],
   "source": []
  }
 ],
 "metadata": {
  "kernelspec": {
   "display_name": "Python 3 (ipykernel)",
   "language": "python",
   "name": "python3"
  },
  "language_info": {
   "codemirror_mode": {
    "name": "ipython",
    "version": 3
   },
   "file_extension": ".py",
   "mimetype": "text/x-python",
   "name": "python",
   "nbconvert_exporter": "python",
   "pygments_lexer": "ipython3",
   "version": "3.12.7"
  }
 },
 "nbformat": 4,
 "nbformat_minor": 5
}
